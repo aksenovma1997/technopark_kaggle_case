{
  "nbformat": 4,
  "nbformat_minor": 0,
  "metadata": {
    "colab": {
      "name": "kaggle_case.ipynb",
      "provenance": [],
      "collapsed_sections": []
    },
    "kernelspec": {
      "name": "python3",
      "display_name": "Python 3"
    }
  },
  "cells": [
    {
      "cell_type": "code",
      "metadata": {
        "id": "ylM8XjYKd1pJ"
      },
      "source": [
        "import pandas as pd\n",
        "import matplotlib.pyplot as plt\n",
        "%matplotlib inline\n",
        "import numpy as np\n",
        "import sklearn\n",
        "\n",
        "data = pd.read_csv('contest_train_binary.csv')\n",
        "test = pd.read_csv('contest_test.csv')"
      ],
      "execution_count": null,
      "outputs": []
    },
    {
      "cell_type": "code",
      "metadata": {
        "id": "fMMdu9qNmu8t"
      },
      "source": [
        "# удаляем признаки, все значения по которым одинаковые\n",
        "toDrop = set()\n",
        "for i in range(len(data.columns)):\n",
        "  if (data.iloc[:,i].value_counts().count() == 1):\n",
        "    toDrop.add(data.columns[i])\n",
        "for i in range(len(test.columns)):\n",
        "  if (test.iloc[:,i].value_counts().count() == 1):\n",
        "    toDrop.add(test.columns[i])\n",
        "for i in toDrop:\n",
        "    test = test.drop(i, axis=1)\n",
        "    data = data.drop(i, axis=1)"
      ],
      "execution_count": null,
      "outputs": []
    },
    {
      "cell_type": "code",
      "metadata": {
        "id": "EZzGWC00k522"
      },
      "source": [
        "# заполняем пропуски в сете и бинаризуем таргет\n",
        "data = data.apply(lambda x: x.fillna(x.median()))\n",
        "data['TARGET'] = data['TARGET'].astype(bool)\n",
        "\n",
        "# заполняем пропуски в сете, переносим ID из test в новый фрейм (который будет в итоговом решении)\n",
        "test = test.apply(lambda x: x.fillna(x.median()))\n",
        "ans = pd.DataFrame(test['ID'])\n",
        "test = test.drop('ID', axis=1)\n",
        "\n",
        "# разбиваем, нормализируем\n",
        "Y = data['TARGET']\n",
        "X = data.drop(['TARGET','ID'], axis=1)\n",
        "X = (X - X.mean())/X.std()\n",
        "test = (test - test.mean())/test.std()"
      ],
      "execution_count": null,
      "outputs": []
    },
    {
      "cell_type": "code",
      "metadata": {
        "id": "0RXib2liUCLB",
        "colab": {
          "base_uri": "https://localhost:8080/",
          "height": 52
        },
        "outputId": "335036a8-1515-4c10-ae77-c92719755e46"
      },
      "source": [
        "# randomforest (ищем оптимумы параметров)\n",
        "# параметров много, сетка большая => возможно, лучше было бы использовать RandomizedSearchCV\n",
        "# также можно отдельно настраивать кросс-валидацию через cross_validation.StratifiedShuffleSplit\n",
        "from sklearn.ensemble import RandomForestClassifier\n",
        "forest = RandomForestClassifier()\n",
        "from sklearn.model_selection import GridSearchCV\n",
        "par = {'n_estimators': range (10, 31, 10),\n",
        "       'max_depth': range (1, 11, 3),\n",
        "       'min_samples_leaf': range (1, 8, 3),\n",
        "       'min_samples_split': range (2, 9, 3)}\n",
        "grid = GridSearchCV(forest, par, scoring = 'roc_auc', cv=5)\n",
        "grid.fit(X, Y)\n",
        "print(grid.best_score_)\n",
        "print(grid.best_params_)"
      ],
      "execution_count": null,
      "outputs": [
        {
          "output_type": "stream",
          "text": [
            "0.6459197014735224\n",
            "{'max_depth': 7, 'min_samples_leaf': 7, 'min_samples_split': 8, 'n_estimators': 30}\n"
          ],
          "name": "stdout"
        }
      ]
    },
    {
      "cell_type": "code",
      "metadata": {
        "id": "Ht0d6iJv5g_8",
        "colab": {
          "base_uri": "https://localhost:8080/",
          "height": 156
        },
        "outputId": "b0dbb8c1-de0f-4225-8da9-be83c24698d0"
      },
      "source": [
        "# тренируем лес на оптимальных параметрах\n",
        "forest = RandomForestClassifier(n_estimators=30, max_depth=7, min_samples_leaf=7, min_samples_split=8)\n",
        "forest.fit(X, Y)"
      ],
      "execution_count": null,
      "outputs": [
        {
          "output_type": "execute_result",
          "data": {
            "text/plain": [
              "RandomForestClassifier(bootstrap=True, ccp_alpha=0.0, class_weight=None,\n",
              "                       criterion='gini', max_depth=7, max_features='auto',\n",
              "                       max_leaf_nodes=None, max_samples=None,\n",
              "                       min_impurity_decrease=0.0, min_impurity_split=None,\n",
              "                       min_samples_leaf=7, min_samples_split=8,\n",
              "                       min_weight_fraction_leaf=0.0, n_estimators=30,\n",
              "                       n_jobs=None, oob_score=False, random_state=None,\n",
              "                       verbose=0, warm_start=False)"
            ]
          },
          "metadata": {
            "tags": []
          },
          "execution_count": 23
        }
      ]
    },
    {
      "cell_type": "code",
      "metadata": {
        "id": "rRKjSe9pfwBq",
        "colab": {
          "base_uri": "https://localhost:8080/",
          "height": 357
        },
        "outputId": "d76160ce-fe83-481d-c385-ec9ef6a90ad4"
      },
      "source": [
        "# можно визуализировать значимость признаков\n",
        "importances = forest.feature_importances_\n",
        "indices = np.argsort(importances)[::-1]\n",
        "features_num = len(X.columns)\n",
        "plt.figure()\n",
        "plt.title(\"Feature importances\")\n",
        "plt.bar(range(features_num), importances[indices[:features_num]], align='center')\n",
        "plt.xticks(range(features_num), np.array(X.columns)[indices[:features_num]], rotation=90)\n",
        "plt.xlim([-1, features_num])"
      ],
      "execution_count": null,
      "outputs": [
        {
          "output_type": "execute_result",
          "data": {
            "text/plain": [
              "(-1.0, 255.0)"
            ]
          },
          "metadata": {
            "tags": []
          },
          "execution_count": 24
        },
        {
          "output_type": "display_data",
          "data": {
            "image/png": "[encoded data removed]",
            "text/plain": [
              "<Figure size 432x288 with 1 Axes>"
            ]
          },
          "metadata": {
            "tags": [],
            "needs_background": "light"
          }
        }
      ]
    },
    {
      "cell_type": "code",
      "metadata": {
        "id": "nRqZrC-89uX0"
      },
      "source": [
        "# теперь уберём малозначимые признаки и сделаем предикт на test\n",
        "toDrop = set()\n",
        "for i in range(len(X.columns)):\n",
        "  if importances[i] < 0.0001:\n",
        "    toDrop.add(X.columns[i])\n",
        "for i in toDrop:\n",
        "    X = X.drop(i, axis=1)\n",
        "    test = test.drop(i, axis=1)\n",
        "forest.fit(X, Y)\n",
        "prediction = forest.predict_proba(test)\n",
        "ans['TARGET'] = prediction[:,1]\n",
        "ans.to_csv('ans_forest.csv', encoding='utf-8', index=False)"
      ],
      "execution_count": null,
      "outputs": []
    }
  ]
}